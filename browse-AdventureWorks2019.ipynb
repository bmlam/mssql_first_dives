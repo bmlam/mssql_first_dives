{
    "metadata": {
        "kernelspec": {
            "name": "SQL",
            "display_name": "SQL",
            "language": "sql"
        },
        "language_info": {
            "name": "sql",
            "version": ""
        }
    },
    "nbformat_minor": 2,
    "nbformat": 4,
    "cells": [
        {
            "cell_type": "markdown",
            "source": [
                "Set up our environment and  Find out who is logged in"
            ],
            "metadata": {
                "azdata_cell_guid": "35a36261-fb8b-47e2-873b-92e6a48d274a"
            },
            "attachments": {}
        },
        {
            "cell_type": "code",
            "source": [
                "USE AdventureWorks2019\n",
                "GO\n",
                "SELECT CURRENT_USER\n",
                "GO"
            ],
            "metadata": {
                "azdata_cell_guid": "fb6e8aaf-0195-47ea-ac04-e56572b627e2"
            },
            "outputs": [
                {
                    "output_type": "display_data",
                    "data": {
                        "text/html": "Commands completed successfully."
                    },
                    "metadata": {}
                },
                {
                    "output_type": "display_data",
                    "data": {
                        "text/html": "(1 row affected)"
                    },
                    "metadata": {}
                },
                {
                    "output_type": "display_data",
                    "data": {
                        "text/html": "Total execution time: 00:00:00.233"
                    },
                    "metadata": {}
                },
                {
                    "output_type": "execute_result",
                    "metadata": {},
                    "execution_count": 1,
                    "data": {
                        "application/vnd.dataresource+json": {
                            "schema": {
                                "fields": [
                                    {
                                        "name": "(No column name)"
                                    }
                                ]
                            },
                            "data": [
                                {
                                    "0": "ddlUser1"
                                }
                            ]
                        },
                        "text/html": [
                            "<table>",
                            "<tr><th>(No column name)</th></tr>",
                            "<tr><td>ddlUser1</td></tr>",
                            "</table>"
                        ]
                    }
                }
            ],
            "execution_count": 1
        },
        {
            "cell_type": "markdown",
            "source": [
                "Tables in the database"
            ],
            "metadata": {
                "azdata_cell_guid": "c9a9a1ee-4540-403e-acc8-56bc67bcb376"
            },
            "attachments": {}
        },
        {
            "cell_type": "code",
            "source": [
                "\n",
                "SELECT object_name(object_id) table_name, SCHEMA_ID, schema_name(schema_id) schema_name FROM sys.tables ORDER by schema_id;"
            ],
            "metadata": {
                "azdata_cell_guid": "49b3377e-bfe4-48c0-96e5-cb250ba4cf7e"
            },
            "outputs": [
                {
                    "output_type": "display_data",
                    "data": {
                        "text/html": "(73 rows affected)"
                    },
                    "metadata": {}
                },
                {
                    "output_type": "display_data",
                    "data": {
                        "text/html": "Total execution time: 00:00:00.149"
                    },
                    "metadata": {}
                },
                {
                    "output_type": "execute_result",
                    "metadata": {},
                    "execution_count": 2,
                    "data": {
                        "application/vnd.dataresource+json": {
                            "schema": {
                                "fields": [
                                    {
                                        "name": "table_name"
                                    },
                                    {
                                        "name": "SCHEMA_ID"
                                    },
                                    {
                                        "name": "schema_name"
                                    }
                                ]
                            },
                            "data": [
                                {
                                    "0": "DatabaseLog",
                                    "1": "1",
                                    "2": "dbo"
                                },
                                {
                                    "0": "ErrorLog",
                                    "1": "1",
                                    "2": "dbo"
                                },
                                {
                                    "0": "AWBuildVersion",
                                    "1": "1",
                                    "2": "dbo"
                                },
                                {
                                    "0": "testProduct",
                                    "1": "1",
                                    "2": "dbo"
                                },
                                {
                                    "0": "Department",
                                    "1": "5",
                                    "2": "HumanResources"
                                },
                                {
                                    "0": "Employee",
                                    "1": "5",
                                    "2": "HumanResources"
                                },
                                {
                                    "0": "EmployeeDepartmentHistory",
                                    "1": "5",
                                    "2": "HumanResources"
                                },
                                {
                                    "0": "Shift",
                                    "1": "5",
                                    "2": "HumanResources"
                                },
                                {
                                    "0": "EmployeePayHistory",
                                    "1": "5",
                                    "2": "HumanResources"
                                },
                                {
                                    "0": "JobCandidate",
                                    "1": "5",
                                    "2": "HumanResources"
                                },
                                {
                                    "0": "Person",
                                    "1": "6",
                                    "2": "Person"
                                },
                                {
                                    "0": "Password",
                                    "1": "6",
                                    "2": "Person"
                                },
                                {
                                    "0": "PersonPhone",
                                    "1": "6",
                                    "2": "Person"
                                },
                                {
                                    "0": "PhoneNumberType",
                                    "1": "6",
                                    "2": "Person"
                                },
                                {
                                    "0": "Address",
                                    "1": "6",
                                    "2": "Person"
                                },
                                {
                                    "0": "EmailAddress",
                                    "1": "6",
                                    "2": "Person"
                                },
                                {
                                    "0": "ContactType",
                                    "1": "6",
                                    "2": "Person"
                                },
                                {
                                    "0": "BusinessEntity",
                                    "1": "6",
                                    "2": "Person"
                                },
                                {
                                    "0": "AddressType",
                                    "1": "6",
                                    "2": "Person"
                                },
                                {
                                    "0": "StateProvince",
                                    "1": "6",
                                    "2": "Person"
                                },
                                {
                                    "0": "BusinessEntityAddress",
                                    "1": "6",
                                    "2": "Person"
                                },
                                {
                                    "0": "BusinessEntityContact",
                                    "1": "6",
                                    "2": "Person"
                                },
                                {
                                    "0": "CountryRegion",
                                    "1": "6",
                                    "2": "Person"
                                },
                                {
                                    "0": "WorkOrder",
                                    "1": "7",
                                    "2": "Production"
                                },
                                {
                                    "0": "UnitMeasure",
                                    "1": "7",
                                    "2": "Production"
                                },
                                {
                                    "0": "ProductModelIllustration",
                                    "1": "7",
                                    "2": "Production"
                                },
                                {
                                    "0": "ProductPhoto",
                                    "1": "7",
                                    "2": "Production"
                                },
                                {
                                    "0": "ProductProductPhoto",
                                    "1": "7",
                                    "2": "Production"
                                },
                                {
                                    "0": "TransactionHistory",
                                    "1": "7",
                                    "2": "Production"
                                },
                                {
                                    "0": "TransactionHistoryArchive",
                                    "1": "7",
                                    "2": "Production"
                                },
                                {
                                    "0": "ProductSubcategory",
                                    "1": "7",
                                    "2": "Production"
                                },
                                {
                                    "0": "ProductReview",
                                    "1": "7",
                                    "2": "Production"
                                },
                                {
                                    "0": "testImport",
                                    "1": "7",
                                    "2": "Production"
                                },
                                {
                                    "0": "Culture",
                                    "1": "7",
                                    "2": "Production"
                                },
                                {
                                    "0": "WorkOrderRouting",
                                    "1": "7",
                                    "2": "Production"
                                },
                                {
                                    "0": "Document",
                                    "1": "7",
                                    "2": "Production"
                                },
                                {
                                    "0": "ProductDocument",
                                    "1": "7",
                                    "2": "Production"
                                },
                                {
                                    "0": "ProductModel",
                                    "1": "7",
                                    "2": "Production"
                                },
                                {
                                    "0": "ProductModelProductDescriptionCulture",
                                    "1": "7",
                                    "2": "Production"
                                },
                                {
                                    "0": "BillOfMaterials",
                                    "1": "7",
                                    "2": "Production"
                                },
                                {
                                    "0": "ProductCategory",
                                    "1": "7",
                                    "2": "Production"
                                },
                                {
                                    "0": "ProductCostHistory",
                                    "1": "7",
                                    "2": "Production"
                                },
                                {
                                    "0": "ProductDescription",
                                    "1": "7",
                                    "2": "Production"
                                },
                                {
                                    "0": "ProductListPriceHistory",
                                    "1": "7",
                                    "2": "Production"
                                },
                                {
                                    "0": "ProductInventory",
                                    "1": "7",
                                    "2": "Production"
                                },
                                {
                                    "0": "Product",
                                    "1": "7",
                                    "2": "Production"
                                },
                                {
                                    "0": "Illustration",
                                    "1": "7",
                                    "2": "Production"
                                },
                                {
                                    "0": "ScrapReason",
                                    "1": "7",
                                    "2": "Production"
                                },
                                {
                                    "0": "Location",
                                    "1": "7",
                                    "2": "Production"
                                },
                                {
                                    "0": "ShipMethod",
                                    "1": "8",
                                    "2": "Purchasing"
                                },
                                {
                                    "0": "PurchaseOrderHeader",
                                    "1": "8",
                                    "2": "Purchasing"
                                },
                                {
                                    "0": "Vendor",
                                    "1": "8",
                                    "2": "Purchasing"
                                },
                                {
                                    "0": "ProductVendor",
                                    "1": "8",
                                    "2": "Purchasing"
                                },
                                {
                                    "0": "PurchaseOrderDetail",
                                    "1": "8",
                                    "2": "Purchasing"
                                },
                                {
                                    "0": "CreditCard",
                                    "1": "9",
                                    "2": "Sales"
                                },
                                {
                                    "0": "CurrencyRate",
                                    "1": "9",
                                    "2": "Sales"
                                },
                                {
                                    "0": "Customer",
                                    "1": "9",
                                    "2": "Sales"
                                },
                                {
                                    "0": "SalesOrderDetail",
                                    "1": "9",
                                    "2": "Sales"
                                },
                                {
                                    "0": "Currency",
                                    "1": "9",
                                    "2": "Sales"
                                },
                                {
                                    "0": "CountryRegionCurrency",
                                    "1": "9",
                                    "2": "Sales"
                                },
                                {
                                    "0": "SalesOrderHeader",
                                    "1": "9",
                                    "2": "Sales"
                                },
                                {
                                    "0": "ShoppingCartItem",
                                    "1": "9",
                                    "2": "Sales"
                                },
                                {
                                    "0": "SpecialOffer",
                                    "1": "9",
                                    "2": "Sales"
                                },
                                {
                                    "0": "Store",
                                    "1": "9",
                                    "2": "Sales"
                                },
                                {
                                    "0": "SpecialOfferProduct",
                                    "1": "9",
                                    "2": "Sales"
                                },
                                {
                                    "0": "SalesOrderHeaderSalesReason",
                                    "1": "9",
                                    "2": "Sales"
                                },
                                {
                                    "0": "SalesPerson",
                                    "1": "9",
                                    "2": "Sales"
                                },
                                {
                                    "0": "SalesReason",
                                    "1": "9",
                                    "2": "Sales"
                                },
                                {
                                    "0": "SalesTaxRate",
                                    "1": "9",
                                    "2": "Sales"
                                },
                                {
                                    "0": "PersonCreditCard",
                                    "1": "9",
                                    "2": "Sales"
                                },
                                {
                                    "0": "SalesTerritoryHistory",
                                    "1": "9",
                                    "2": "Sales"
                                },
                                {
                                    "0": "SalesTerritory",
                                    "1": "9",
                                    "2": "Sales"
                                },
                                {
                                    "0": "SalesPersonQuotaHistory",
                                    "1": "9",
                                    "2": "Sales"
                                }
                            ]
                        },
                        "text/html": [
                            "<table>",
                            "<tr><th>table_name</th><th>SCHEMA_ID</th><th>schema_name</th></tr>",
                            "<tr><td>DatabaseLog</td><td>1</td><td>dbo</td></tr>",
                            "<tr><td>ErrorLog</td><td>1</td><td>dbo</td></tr>",
                            "<tr><td>AWBuildVersion</td><td>1</td><td>dbo</td></tr>",
                            "<tr><td>testProduct</td><td>1</td><td>dbo</td></tr>",
                            "<tr><td>Department</td><td>5</td><td>HumanResources</td></tr>",
                            "<tr><td>Employee</td><td>5</td><td>HumanResources</td></tr>",
                            "<tr><td>EmployeeDepartmentHistory</td><td>5</td><td>HumanResources</td></tr>",
                            "<tr><td>Shift</td><td>5</td><td>HumanResources</td></tr>",
                            "<tr><td>EmployeePayHistory</td><td>5</td><td>HumanResources</td></tr>",
                            "<tr><td>JobCandidate</td><td>5</td><td>HumanResources</td></tr>",
                            "<tr><td>Person</td><td>6</td><td>Person</td></tr>",
                            "<tr><td>Password</td><td>6</td><td>Person</td></tr>",
                            "<tr><td>PersonPhone</td><td>6</td><td>Person</td></tr>",
                            "<tr><td>PhoneNumberType</td><td>6</td><td>Person</td></tr>",
                            "<tr><td>Address</td><td>6</td><td>Person</td></tr>",
                            "<tr><td>EmailAddress</td><td>6</td><td>Person</td></tr>",
                            "<tr><td>ContactType</td><td>6</td><td>Person</td></tr>",
                            "<tr><td>BusinessEntity</td><td>6</td><td>Person</td></tr>",
                            "<tr><td>AddressType</td><td>6</td><td>Person</td></tr>",
                            "<tr><td>StateProvince</td><td>6</td><td>Person</td></tr>",
                            "<tr><td>BusinessEntityAddress</td><td>6</td><td>Person</td></tr>",
                            "<tr><td>BusinessEntityContact</td><td>6</td><td>Person</td></tr>",
                            "<tr><td>CountryRegion</td><td>6</td><td>Person</td></tr>",
                            "<tr><td>WorkOrder</td><td>7</td><td>Production</td></tr>",
                            "<tr><td>UnitMeasure</td><td>7</td><td>Production</td></tr>",
                            "<tr><td>ProductModelIllustration</td><td>7</td><td>Production</td></tr>",
                            "<tr><td>ProductPhoto</td><td>7</td><td>Production</td></tr>",
                            "<tr><td>ProductProductPhoto</td><td>7</td><td>Production</td></tr>",
                            "<tr><td>TransactionHistory</td><td>7</td><td>Production</td></tr>",
                            "<tr><td>TransactionHistoryArchive</td><td>7</td><td>Production</td></tr>",
                            "<tr><td>ProductSubcategory</td><td>7</td><td>Production</td></tr>",
                            "<tr><td>ProductReview</td><td>7</td><td>Production</td></tr>",
                            "<tr><td>testImport</td><td>7</td><td>Production</td></tr>",
                            "<tr><td>Culture</td><td>7</td><td>Production</td></tr>",
                            "<tr><td>WorkOrderRouting</td><td>7</td><td>Production</td></tr>",
                            "<tr><td>Document</td><td>7</td><td>Production</td></tr>",
                            "<tr><td>ProductDocument</td><td>7</td><td>Production</td></tr>",
                            "<tr><td>ProductModel</td><td>7</td><td>Production</td></tr>",
                            "<tr><td>ProductModelProductDescriptionCulture</td><td>7</td><td>Production</td></tr>",
                            "<tr><td>BillOfMaterials</td><td>7</td><td>Production</td></tr>",
                            "<tr><td>ProductCategory</td><td>7</td><td>Production</td></tr>",
                            "<tr><td>ProductCostHistory</td><td>7</td><td>Production</td></tr>",
                            "<tr><td>ProductDescription</td><td>7</td><td>Production</td></tr>",
                            "<tr><td>ProductListPriceHistory</td><td>7</td><td>Production</td></tr>",
                            "<tr><td>ProductInventory</td><td>7</td><td>Production</td></tr>",
                            "<tr><td>Product</td><td>7</td><td>Production</td></tr>",
                            "<tr><td>Illustration</td><td>7</td><td>Production</td></tr>",
                            "<tr><td>ScrapReason</td><td>7</td><td>Production</td></tr>",
                            "<tr><td>Location</td><td>7</td><td>Production</td></tr>",
                            "<tr><td>ShipMethod</td><td>8</td><td>Purchasing</td></tr>",
                            "<tr><td>PurchaseOrderHeader</td><td>8</td><td>Purchasing</td></tr>",
                            "<tr><td>Vendor</td><td>8</td><td>Purchasing</td></tr>",
                            "<tr><td>ProductVendor</td><td>8</td><td>Purchasing</td></tr>",
                            "<tr><td>PurchaseOrderDetail</td><td>8</td><td>Purchasing</td></tr>",
                            "<tr><td>CreditCard</td><td>9</td><td>Sales</td></tr>",
                            "<tr><td>CurrencyRate</td><td>9</td><td>Sales</td></tr>",
                            "<tr><td>Customer</td><td>9</td><td>Sales</td></tr>",
                            "<tr><td>SalesOrderDetail</td><td>9</td><td>Sales</td></tr>",
                            "<tr><td>Currency</td><td>9</td><td>Sales</td></tr>",
                            "<tr><td>CountryRegionCurrency</td><td>9</td><td>Sales</td></tr>",
                            "<tr><td>SalesOrderHeader</td><td>9</td><td>Sales</td></tr>",
                            "<tr><td>ShoppingCartItem</td><td>9</td><td>Sales</td></tr>",
                            "<tr><td>SpecialOffer</td><td>9</td><td>Sales</td></tr>",
                            "<tr><td>Store</td><td>9</td><td>Sales</td></tr>",
                            "<tr><td>SpecialOfferProduct</td><td>9</td><td>Sales</td></tr>",
                            "<tr><td>SalesOrderHeaderSalesReason</td><td>9</td><td>Sales</td></tr>",
                            "<tr><td>SalesPerson</td><td>9</td><td>Sales</td></tr>",
                            "<tr><td>SalesReason</td><td>9</td><td>Sales</td></tr>",
                            "<tr><td>SalesTaxRate</td><td>9</td><td>Sales</td></tr>",
                            "<tr><td>PersonCreditCard</td><td>9</td><td>Sales</td></tr>",
                            "<tr><td>SalesTerritoryHistory</td><td>9</td><td>Sales</td></tr>",
                            "<tr><td>SalesTerritory</td><td>9</td><td>Sales</td></tr>",
                            "<tr><td>SalesPersonQuotaHistory</td><td>9</td><td>Sales</td></tr>",
                            "</table>"
                        ]
                    }
                }
            ],
            "execution_count": 2
        }
    ]
}